{
 "metadata": {
  "language_info": {
   "codemirror_mode": {
    "name": "ipython",
    "version": 3
   },
   "file_extension": ".py",
   "mimetype": "text/x-python",
   "name": "python",
   "nbconvert_exporter": "python",
   "pygments_lexer": "ipython3",
   "version": "3.9.1-final"
  },
  "orig_nbformat": 2,
  "kernelspec": {
   "name": "python3",
   "display_name": "Python 3.9.1 64-bit ('env')",
   "metadata": {
    "interpreter": {
     "hash": "4b5bfc8396f4eada776c63eb94e510356ac94ae4c443441adf6a2802ffec67b0"
    }
   }
  }
 },
 "nbformat": 4,
 "nbformat_minor": 2,
 "cells": [
  {
   "source": [
    "# Building Plan Image Parser\n",
    "\n",
    "The following code allows to parse an image of a Building Plan to an ASCII representation that can be used as input for the algorithm to be developed in the Router Placement Optimization Problem.\n",
    "\n",
    "An example image is the following:\n",
    "\n",
    "![Building Plan](../images/plan1.png)\n",
    "\n",
    "Every pixel color will be translated to an ASCII code by the following table:\n",
    "\n",
    "| Color                 | Symbol | Meaning |\n",
    "|:------------------------|:---:|---------:|\n",
    "| GREY (170,170,170,255)  | `-` | void     |\n",
    "| WHITE (255,255,255,255) | `.` | valid    |\n",
    "| BLACK (0,0,0,255)       | `#` | wall     |\n",
    "| GREEN (37,255,0,255)    | `b` | backbone |\n",
    "| BLUE (0,0,255,255)      | `R` | router   |\n",
    "| LBLUE (225,225,255,255) | `r` | coverage |\n",
    "\n",
    "After running the algorithm and getting a solution represented by an ASCII matrix, it can be translated back to an image, like the following:\n",
    "\n",
    "![Building Plan Router Placement](../images/plan1r.png)"
   ],
   "cell_type": "markdown",
   "metadata": {}
  },
  {
   "source": [
    "Getting the environment ready by doing:\n",
    "\n",
    "```bash\n",
    "python3 -m venv env\n",
    "source env/bin/activate\n",
    "pip install -r requirements.txt\n",
    "```\n",
    "\n",
    "Start the jupiter-lab and select the Python kernel at `env/bin/python`\n",
    "\n",
    "With that done, first, let's start by importing the necessary modules:"
   ],
   "cell_type": "markdown",
   "metadata": {}
  },
  {
   "cell_type": "code",
   "execution_count": null,
   "metadata": {},
   "outputs": [],
   "source": [
    "from PIL import Image\n",
    "from numpy import array, asarray, array_equal, savetxt"
   ]
  },
  {
   "source": [
    "Then, create the color constants to be mapped to the characters:"
   ],
   "cell_type": "markdown",
   "metadata": {}
  },
  {
   "cell_type": "code",
   "execution_count": null,
   "metadata": {},
   "outputs": [],
   "source": [
    "GREY = array([170,170,170,255])\n",
    "WHITE = array([255,255,255,255])\n",
    "BLACK = array([0,0,0,255])\n",
    "GREEN = array([37,255,0,255])\n",
    "BLUE = array([0,0,255,255])\n",
    "LBLUE = array([225,225,255,255])"
   ]
  },
  {
   "source": [
    "After that, create a function to convert an image to its ASCII representation, along with the problem configurations:\n",
    "\n",
    "1. Start by loading the image with the Image object from the Pillow module.\n",
    "2. Convert the image object to a numpy array.\n",
    "3. Save the configurations as the first line of the data.\n",
    "4. Iterate over each pixel and map its color to a character from the table.\n",
    "5. Save the new data to the ouput file."
   ],
   "cell_type": "markdown",
   "metadata": {}
  },
  {
   "cell_type": "code",
   "execution_count": null,
   "metadata": {
    "tags": []
   },
   "outputs": [],
   "source": [
    "def image_to_data(input_file, output_file, budget, router_range, router_cost, backbone_cost):\n",
    "    config = {\"budget\": budget, \"router-range\": router_range, \"router-cost\": router_cost, \"backbone-cost\": backbone_cost}\n",
    "\n",
    "    # loads the image\n",
    "    image = Image.open(input_file)\n",
    "\n",
    "    # converts image to numpy array\n",
    "    data = asarray(image)\n",
    "\n",
    "    # saves the configurations in the first line\n",
    "    matrix = str(config) + \"\\n\"\n",
    "\n",
    "    # generates the ASCII codes matching each pixel color\n",
    "    for i in data:\n",
    "        line = \"\"\n",
    "        for j in i:\n",
    "            if array_equal(j,GREY):\n",
    "                line += \"-\"\n",
    "            elif array_equal(j,WHITE):\n",
    "                line += \".\"\n",
    "            elif array_equal(j,BLACK):\n",
    "                line += \"#\"\n",
    "            elif array_equal(j,GREEN):\n",
    "                line += \"b\"\n",
    "            elif array_equal(j,BLUE):\n",
    "                line += \"R\"\n",
    "            elif array_equal(j,LBLUE):\n",
    "                line += \"r\"\n",
    "        matrix += line + \"\\n\"\n",
    "\n",
    "    # opens the file descriptor\n",
    "    f = open(output_file,\"w\")\n",
    "\n",
    "    # saves the matrix info\n",
    "    f.write(matrix)\n",
    "\n",
    "    # closes the file descriptor\n",
    "    f.close()"
   ]
  },
  {
   "source": [
    "Next, create a function to convert the ASCII solution representation back to an image:\n",
    "\n",
    "1. Start by loading the data, reading it line by line.\n",
    "2. Convert each character to the corresponding color.\n",
    "3. Convert the entire array to a numpy array.\n",
    "4. Convert the numpy array to an Image object from the Pillow module.\n",
    "5. Save the image to the output file."
   ],
   "cell_type": "markdown",
   "metadata": {}
  },
  {
   "cell_type": "code",
   "execution_count": null,
   "metadata": {},
   "outputs": [],
   "source": [
    "def data_to_image(input_file, output_file):\n",
    "    pixels = []\n",
    "\n",
    "    # opens the file descriptor\n",
    "    f = open(input_file, 'r')\n",
    "\n",
    "    # gets an array of lines\n",
    "    lines = f.readlines()\n",
    "\n",
    "    # generates the pixels colors matching each character\n",
    "    for l in lines:\n",
    "        nl = []\n",
    "        for c in l:\n",
    "            if c == \"-\":\n",
    "                nl.append(GREY)\n",
    "            elif c == \".\":\n",
    "                nl.append(WHITE)\n",
    "            elif c == \"#\":\n",
    "                nl.append(BLACK)\n",
    "            elif c == \"b\":\n",
    "                nl.append(GREEN)\n",
    "            elif c == \"R\":\n",
    "                nl.append(BLUE)\n",
    "            elif c == \"r\":\n",
    "                nl.append(LBLUE)\n",
    "        pixels.append(nl)\n",
    "    \n",
    "    # converts to a numpy array\n",
    "    pixels = array(pixels)\n",
    "\n",
    "    # converts the array of pixels to an image\n",
    "    image = Image.fromarray(pixels.astype(\"uint8\"), 'RGBA')\n",
    "\n",
    "    # saves the image\n",
    "    image.save(output_file)"
   ]
  },
  {
   "source": [
    "As an example, convert the image \n",
    "\n",
    "![](../images/plan1.png) \n",
    "\n",
    "to its ASCII representation, saving it to `out/plan1.data`. The problem configurations can be:\n",
    "\n",
    "* Budget = 5000\n",
    "* Router Range = 100\n",
    "* Cost Per Router = 200\n",
    "* Cost Per Backbone = 1"
   ],
   "cell_type": "markdown",
   "metadata": {}
  },
  {
   "cell_type": "code",
   "execution_count": null,
   "metadata": {},
   "outputs": [],
   "source": [
    "image_to_data(\"../images/plan1.png\",\"../out/plan1.data\",5000,100,200,1)"
   ]
  },
  {
   "source": [
    "As another example, convert the ASCII solution in the file `out/plan1r.data` to its image representation, saving it to `out/plan1r.png`:"
   ],
   "cell_type": "markdown",
   "metadata": {}
  },
  {
   "cell_type": "code",
   "execution_count": null,
   "metadata": {},
   "outputs": [],
   "source": [
    "data_to_image(\"../out/plan1r.data\",\"../out/plan1r.png\")"
   ]
  }
 ]
}